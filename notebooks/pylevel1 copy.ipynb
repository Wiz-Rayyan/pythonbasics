{
 "cells": [
  {
   "cell_type": "code",
   "execution_count": null,
   "metadata": {},
   "outputs": [],
   "source": [
    "x = 10      # Integer\n",
    "y = 3.14    # Float\n",
    "name = \"Roxu in neverland\"  # String\n",
    "is_active = True  # Boolean\n",
    "print(5 == 5)  \n",
    "print(10 < 3)   \n",
    "x += 2\n",
    "print(type(x)) \n",
    "print(type(y)) \n",
    "print(y % x)"
   ]
  },
  {
   "cell_type": "code",
   "execution_count": null,
   "metadata": {},
   "outputs": [],
   "source": [
    "print(5 & 3) \n",
    "print(5 | 3) "
   ]
  },
  {
   "cell_type": "code",
   "execution_count": null,
   "metadata": {},
   "outputs": [],
   "source": [
    "# apna functions\n"
   ]
  },
  {
   "cell_type": "code",
   "execution_count": null,
   "metadata": {},
   "outputs": [],
   "source": [
    "# paraya pr kaamka functions\n",
    "import math\n",
    "print(dir(math))"
   ]
  },
  {
   "cell_type": "code",
   "execution_count": null,
   "metadata": {},
   "outputs": [],
   "source": [
    "# not so apna function: Dunder functions\n"
   ]
  },
  {
   "cell_type": "code",
   "execution_count": null,
   "metadata": {},
   "outputs": [],
   "source": [
    "x = True\n",
    "y = False\n",
    "print(x and y)  # \n",
    "print(x or y)   #\n",
    "print(not x)    #\n"
   ]
  },
  {
   "cell_type": "code",
   "execution_count": null,
   "metadata": {},
   "outputs": [],
   "source": [
    "fruits = [\"apple\", \"banana\", \"cherry\"]\n",
    "numbers = [10, 20, 30, 40]\n",
    "mixed_list = [1, \"hello\", 3.5, True]\n",
    "\n",
    "print(fruits[0])  \n",
    "print(fruits[-1])  \n",
    "print(fruits[0:2])  \n",
    "print(fruits[:2])   \n",
    "print(fruits[1:])   \n",
    "fruits.append(\"orange\")  # Add at the end\n",
    "fruits.insert(1, \"grape\")  # Insert at index 1\n",
    "print(fruits)\n",
    "fruits.remove(\"banana\")  # Removes first occurrence\n",
    "fruits.pop(2)  # Removes element at index 2\n",
    "print(fruits)\n",
    "numbers.sort()  # Sort in ascending order\n",
    "numbers.reverse()  # Reverse the list\n",
    "print(len(numbers))  # Length of the list\n",
    "\n"
   ]
  },
  {
   "cell_type": "code",
   "execution_count": null,
   "metadata": {},
   "outputs": [],
   "source": [
    "colors = (\"red\", \"green\", \"blue\")\n",
    "single_tuple = (\"hello\",)  # Comma is necessary for a single element\n",
    "print(colors[1])  # green\n",
    "a, b, c = colors\n",
    "print(a)  # red\n",
    "# print(colors | single_tuple) immutability of tuple"
   ]
  },
  {
   "cell_type": "code",
   "execution_count": null,
   "metadata": {},
   "outputs": [],
   "source": [
    "'''\n",
    "numbers = {1, 2, 3, 4, 4, 5}  # Duplicate values are ignored\n",
    "print(numbers)  # {1, 2, 3, 4, 5}\n",
    "'''\n",
    "set1 = {1, 2, 3}\n",
    "set2 = {3, 4, 5}\n",
    "\n",
    "print(set1 | set2)  # Union: {1, 2, 3, 4, 5}\n",
    "print(set1 & set2)  # Intersection: {3}\n",
    "print(set1 - set2)  # Difference: {1, 2}\n"
   ]
  },
  {
   "cell_type": "code",
   "execution_count": null,
   "metadata": {},
   "outputs": [],
   "source": [
    "student = {\n",
    "    \"name\": \"Roxu\",\n",
    "    \"age\": 19,\n",
    "    \"marks\": 93.4\n",
    "}\n",
    "print(student[\"name\"])  \n",
    "print(student.get(\"age\")) \n",
    "student[\"age\"] = 18\n",
    "student[\"city\"] = \"Bombay\"  # Adding a new key-value pair\n",
    "print(student)\n",
    "print(student.keys())  # Get all keys\n",
    "print(student.values())  # Get all values\n",
    "print(student.items())  # Get key-value pairs as tuples\n"
   ]
  },
  {
   "cell_type": "code",
   "execution_count": null,
   "metadata": {},
   "outputs": [],
   "source": [
    "i = 0\n",
    "while i < 5:\n",
    "    print(i)\n",
    "    i += 1\n"
   ]
  },
  {
   "cell_type": "code",
   "execution_count": null,
   "metadata": {},
   "outputs": [],
   "source": [
    "x, y, z = -5, 7,0\n",
    "if x > 0:\n",
    "    print(\"Positive number\")\n",
    "else:\n",
    "    print(\"Negative number\")\n"
   ]
  },
  {
   "cell_type": "code",
   "execution_count": null,
   "metadata": {},
   "outputs": [],
   "source": [
    "x = [-5, 2, 0]\n",
    "for i in x:\n",
    "    if i > 0:\n",
    "        print(f\"{i} Positive number\")\n",
    "    else:\n",
    "        print(f\"{i} Negative number\")\n",
    "\n",
    "# fixerror0.hint: btwn if and else"
   ]
  },
  {
   "cell_type": "code",
   "execution_count": null,
   "metadata": {},
   "outputs": [],
   "source": [
    "for i in range(5):  # range(5) generates 0,1,2,3,4\n",
    "    print(i)\n"
   ]
  },
  {
   "cell_type": "code",
   "execution_count": null,
   "metadata": {},
   "outputs": [],
   "source": [
    "fruits = [\"apple\", \"banana\", \"cherry\"]\n",
    "for fruit in fruits:\n",
    "    print(fruit)\n"
   ]
  },
  {
   "cell_type": "code",
   "execution_count": null,
   "metadata": {},
   "outputs": [],
   "source": [
    "for index, fruit in enumerate(fruits):\n",
    "    print(f\"Index {index}: {fruit}\")\n"
   ]
  },
  {
   "cell_type": "code",
   "execution_count": null,
   "metadata": {},
   "outputs": [],
   "source": [
    "x = 0\n",
    "while x < 5:\n",
    "    if x == 3:\n",
    "        break  # Exit loop when x is 3\n",
    "    print(x)\n",
    "    x += 1\n"
   ]
  },
  {
   "cell_type": "code",
   "execution_count": null,
   "metadata": {},
   "outputs": [],
   "source": [
    "x = 0\n",
    "while x < 5:\n",
    "    x += 1\n",
    "    if x == 3:\n",
    "        continue  # Skip printing 3\n",
    "    print(x)\n"
   ]
  },
  {
   "cell_type": "code",
   "execution_count": null,
   "metadata": {},
   "outputs": [],
   "source": [
    "\n",
    "\n",
    "def modulo(a, b):\n",
    "    return a % b\n",
    "\n",
    "result = modulo(53, 10) #storing value from a funtion\n",
    "print(result)  \n"
   ]
  },
  {
   "cell_type": "code",
   "execution_count": null,
   "metadata": {},
   "outputs": [],
   "source": [
    "#string ke andr ki batein\n",
    "def greet(name=\"Guest\"):\n",
    "    print(f\"Hello, {name}!\") #f, r other such things\n",
    "\n",
    "greet(\"Roxu\")  # Output: by new passevalue\n",
    "greet()  # Output: by default given value\n"
   ]
  },
  {
   "cell_type": "code",
   "execution_count": null,
   "metadata": {},
   "outputs": [],
   "source": [
    "def calculate(a, b):\n",
    "    sum_value = a + b\n",
    "    product_value = a * b\n",
    "    return sum_value, product_value\n",
    "# return value halwa thodi hai\n",
    "sum_result, product_result = calculate(4, 5)\n",
    "print(sum_result, product_result)  # Output: 9 20\n"
   ]
  },
  {
   "cell_type": "code",
   "execution_count": null,
   "metadata": {},
   "outputs": [],
   "source": [
    "file = open(\"example.txt\", \"w\")  # Open in write mode\n",
    "file.write(\"Hello, this is a test file.\")\n",
    "file.close()\n"
   ]
  },
  {
   "cell_type": "code",
   "execution_count": null,
   "metadata": {},
   "outputs": [],
   "source": [
    "file = open(\"example.txt\", \"r\")  # Open in read mode\n",
    "content = file.read()\n",
    "print(content)\n",
    "file.close()\n"
   ]
  },
  {
   "cell_type": "code",
   "execution_count": null,
   "metadata": {},
   "outputs": [],
   "source": [
    "file = open(\"example.txt\", \"a\")  # Open in append mode\n",
    "file.write(\"\\n \\n \\n Appending new content.\")\n",
    "file.close()\n"
   ]
  },
  {
   "cell_type": "code",
   "execution_count": null,
   "metadata": {},
   "outputs": [],
   "source": []
  },
  {
   "cell_type": "code",
   "execution_count": null,
   "metadata": {},
   "outputs": [],
   "source": [
    "file = open(\"example.txt\", \"r\")\n",
    "for line in file:\n",
    "    print(line.strip())  # strip() removes newline characters\n",
    "file.close()\n"
   ]
  },
  {
   "cell_type": "code",
   "execution_count": null,
   "metadata": {},
   "outputs": [],
   "source": [
    "with open(\"example.txt\", \"r\") as file:\n",
    "    content = file.read()\n",
    "    print(content)\n"
   ]
  },
  {
   "cell_type": "code",
   "execution_count": null,
   "metadata": {},
   "outputs": [],
   "source": [
    "try:\n",
    "    with open(\"non_existent.txt\", \"r\") as file:\n",
    "        content = file.read()\n",
    "except FileNotFoundError:\n",
    "    print(\"File not found. Please check the filename.\")\n"
   ]
  },
  {
   "cell_type": "code",
   "execution_count": null,
   "metadata": {},
   "outputs": [],
   "source": [
    "try:\n",
    "    result = 10 / 0  # Division by zero\n",
    "except ZeroDivisionError:\n",
    "    print(\"Error: Cannot divide by zero!\")\n"
   ]
  },
  {
   "cell_type": "code",
   "execution_count": null,
   "metadata": {},
   "outputs": [],
   "source": [
    "x = -1\n",
    "assert x >= 0, \"x should be non-negative\"\n"
   ]
  },
  {
   "cell_type": "markdown",
   "metadata": {},
   "source": [
    "#first learn: module making and importing then continue\n",
    "mypackage/\n",
    "    __init__.py\n",
    "    module1.py\n",
    "    module2.py\n",
    "import mymodule or from mymodule import greet\n",
    "from mypackage import module1, module2"
   ]
  },
  {
   "cell_type": "markdown",
   "metadata": {},
   "source": [
    " built-in modules"
   ]
  },
  {
   "cell_type": "markdown",
   "metadata": {},
   "source": [
    "help('modules')"
   ]
  },
  {
   "cell_type": "code",
   "execution_count": null,
   "metadata": {},
   "outputs": [],
   "source": [
    "import random  \n",
    "num = random.randint(1, 100) #randint is function\n",
    "print(\"Random integer between 1 and 100: {num}\")\n",
    "fruits = [  ]\n",
    "chosen_fruit = random.choice(fruits)\n",
    "print(f\"Randomly chosen language: {chosen_fruit}\")\n",
    "#other functions under randommodule is"
   ]
  },
  {
   "cell_type": "code",
   "execution_count": null,
   "metadata": {},
   "outputs": [],
   "source": [
    "import math\n",
    "sqrt_val = math.sqrt(64)\n",
    "pi_const = math.pi\n",
    "print(sqrt_val)\n",
    "print(pi_const)\n"
   ]
  },
  {
   "cell_type": "markdown",
   "metadata": {},
   "source": [
    "shell scripts:\n",
    "#!/usr/bin/env python3\n",
    "chmod +x script.py\n",
    "./script.py\n"
   ]
  },
  {
   "cell_type": "code",
   "execution_count": null,
   "metadata": {},
   "outputs": [],
   "source": [
    "class Car:\n",
    "    def __init__(self, brand, model):\n",
    "        self.brand = brand  # Attribute\n",
    "        self.model = model  # Attribute\n",
    "\n",
    "    def display_info(self):  # Method\n",
    "        print(f\"Car Brand: {self.brand}, Model: {self.model}\")\n",
    "\n",
    "# Creating an object of the Car class\n",
    "car1 = Car(\"Toyota\", \"Corolla\")\n",
    "car1.display_info()\n"
   ]
  },
  {
   "cell_type": "code",
   "execution_count": null,
   "metadata": {},
   "outputs": [],
   "source": [
    "class Student:\n",
    "    school_name = \"ABC School\"  # Class attribute\n",
    "\n",
    "    def __init__(self, name, age):\n",
    "        self.name = name  # Instance attribute\n",
    "        self.age = age  # Instance attribute\n",
    "\n",
    "# Creating objects\n",
    "student1 = Student(\"Alice\", 20)\n",
    "student2 = Student(\"Bob\", 22)\n",
    "\n",
    "print(student1.school_name)  # Output: ABC School\n",
    "print(student2.school_name)  # Output: ABC School\n",
    "print(student1.name)  # Output: Alice\n"
   ]
  },
  {
   "cell_type": "code",
   "execution_count": null,
   "metadata": {},
   "outputs": [],
   "source": [
    "class Person:\n",
    "    def __init__(self, name, age):\n",
    "        self.name = name\n",
    "        self.age = age\n",
    "# a class has methods that belongs to it. variables in function:local, of class: static,of \n",
    "    def greet(self):\n",
    "        print(f\"Hello, my name is {self.name} and I am {self.age} years old.\")\n",
    "\n",
    "p1 = Person(\"John\", 25)\n",
    "p1.greet()\n"
   ]
  },
  {
   "cell_type": "code",
   "execution_count": null,
   "metadata": {},
   "outputs": [],
   "source": [
    "class Example:\n",
    "    def __init__(self):\n",
    "        print(\"Constructor called!\")\n",
    "\n",
    "    def __del__(self):\n",
    "        print(\"Destructor called!\")\n",
    "\n",
    "obj = Example()\n",
    "del obj  # Deletes the object\n"
   ]
  },
  {
   "cell_type": "code",
   "execution_count": null,
   "metadata": {},
   "outputs": [],
   "source": [
    "class Animal:\n",
    "    def speak(self):\n",
    "        print(\"Animal makes a sound\")\n",
    "\n",
    "class Dog(Animal):  # Dog inherits from Animal\n",
    "    def bark(self):\n",
    "        print(\"Dog barks\")\n",
    "\n",
    "d = Dog()\n",
    "d.speak()  # method ki chori\n",
    "d.bark()\n"
   ]
  }
 ],
 "metadata": {
  "kernelspec": {
   "display_name": "Python 3",
   "language": "python",
   "name": "python3"
  },
  "language_info": {
   "codemirror_mode": {
    "name": "ipython",
    "version": 3
   },
   "file_extension": ".py",
   "mimetype": "text/x-python",
   "name": "python",
   "nbconvert_exporter": "python",
   "pygments_lexer": "ipython3",
   "version": "3.12.5"
  }
 },
 "nbformat": 4,
 "nbformat_minor": 2
}
