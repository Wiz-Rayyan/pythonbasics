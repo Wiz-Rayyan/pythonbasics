{
 "cells": [
  {
   "cell_type": "code",
   "execution_count": null,
   "metadata": {},
   "outputs": [],
   "source": [
    "x = 10      # Integer\n",
    "y = 3.14    # Float\n",
    "name = \"Roxu in neverland\"  # String\n",
    "is_active = True  # Boolean\n",
    "print(5 == 5)  \n",
    "print(10 < 3)   \n",
    "x += 2\n",
    "print(type(x)) \n",
    "print(type(y)) \n",
    "print(y % x)"
   ]
  },
  {
   "cell_type": "code",
   "execution_count": null,
   "metadata": {},
   "outputs": [],
   "source": [
    "print(5 & 3) \n",
    "print(5 | 3) "
   ]
  },
  {
   "cell_type": "code",
   "execution_count": null,
   "metadata": {},
   "outputs": [],
   "source": [
    "# apna functions\n"
   ]
  },
  {
   "cell_type": "code",
   "execution_count": null,
   "metadata": {},
   "outputs": [],
   "source": [
    "# paraya pr kaamka functions\n",
    "import math\n",
    "print(dir(math))"
   ]
  },
  {
   "cell_type": "code",
   "execution_count": null,
   "metadata": {},
   "outputs": [],
   "source": [
    "# not so apna function: Dunder functions\n"
   ]
  },
  {
   "cell_type": "code",
   "execution_count": null,
   "metadata": {},
   "outputs": [],
   "source": [
    "x = True\n",
    "y = False\n",
    "print(x and y)  # \n",
    "print(x or y)   #\n",
    "print(not x)    #\n"
   ]
  },
  {
   "cell_type": "code",
   "execution_count": null,
   "metadata": {},
   "outputs": [],
   "source": [
    "fruits = [\"apple\", \"banana\", \"cherry\"]\n",
    "numbers = [10, 20, 30, 40]\n",
    "mixed_list = [1, \"hello\", 3.5, True]\n",
    "\n",
    "print(fruits[0])  \n",
    "print(fruits[-1])  \n",
    "print(fruits[0:2])  \n",
    "print(fruits[:2])   \n",
    "print(fruits[1:])   \n",
    "fruits.append(\"orange\")  # Add at the end\n",
    "fruits.insert(1, \"grape\")  # Insert at index 1\n",
    "print(fruits)\n",
    "fruits.remove(\"banana\")  # Removes first occurrence\n",
    "fruits.pop(2)  # Removes element at index 2\n",
    "print(fruits)\n",
    "numbers.sort()  # Sort in ascending order\n",
    "numbers.reverse()  # Reverse the list\n",
    "print(len(numbers))  # Length of the list\n",
    "\n"
   ]
  },
  {
   "cell_type": "code",
   "execution_count": null,
   "metadata": {},
   "outputs": [],
   "source": [
    "colors = (\"red\", \"green\", \"blue\")\n",
    "single_tuple = (\"hello\",)  # Comma is necessary for a single element\n",
    "print(colors[1])  # green\n",
    "a, b, c = colors\n",
    "print(a)  # red\n",
    "# print(colors | single_tuple) immutability of tuple"
   ]
  },
  {
   "cell_type": "code",
   "execution_count": null,
   "metadata": {},
   "outputs": [],
   "source": [
    "'''\n",
    "numbers = {1, 2, 3, 4, 4, 5}  # Duplicate values are ignored\n",
    "print(numbers)  # {1, 2, 3, 4, 5}\n",
    "'''\n",
    "set1 = {1, 2, 3}\n",
    "set2 = {3, 4, 5}\n",
    "\n",
    "print(set1 | set2)  # Union: {1, 2, 3, 4, 5}\n",
    "print(set1 & set2)  # Intersection: {3}\n",
    "print(set1 - set2)  # Difference: {1, 2}\n"
   ]
  },
  {
   "cell_type": "code",
   "execution_count": null,
   "metadata": {},
   "outputs": [],
   "source": [
    "student = {\n",
    "    \"name\": \"Roxu\",\n",
    "    \"age\": 19,\n",
    "    \"marks\": 93.4\n",
    "}\n",
    "print(student[\"name\"])  \n",
    "print(student.get(\"age\")) \n",
    "student[\"age\"] = 18\n",
    "student[\"city\"] = \"Bombay\"  # Adding a new key-value pair\n",
    "print(student)\n",
    "print(student.keys())  # Get all keys\n",
    "print(student.values())  # Get all values\n",
    "print(student.items())  # Get key-value pairs as tuples\n"
   ]
  },
  {
   "cell_type": "code",
   "execution_count": null,
   "metadata": {},
   "outputs": [],
   "source": [
    "i = 0\n",
    "while i < 5:\n",
    "    print(i)\n",
    "    i += 1\n"
   ]
  },
  {
   "cell_type": "code",
   "execution_count": null,
   "metadata": {},
   "outputs": [],
   "source": [
    "x, y, z = -5, 7,0\n",
    "if x > 0:\n",
    "    print(\"Positive number\")\n",
    "else:\n",
    "    print(\"Negative number\")\n"
   ]
  },
  {
   "cell_type": "code",
   "execution_count": null,
   "metadata": {},
   "outputs": [],
   "source": [
    "x = [-5, 2, 0]\n",
    "for i in x:\n",
    "    if i > 0:\n",
    "        print(f\"{i} Positive number\")\n",
    "    else:\n",
    "        print(f\"{i} Negative number\")\n",
    "\n",
    "# fixerror0.hint: btwn if and else"
   ]
  },
  {
   "cell_type": "code",
   "execution_count": null,
   "metadata": {},
   "outputs": [],
   "source": [
    "for i in range(5):  # range(5) generates 0,1,2,3,4\n",
    "    print(i)\n"
   ]
  },
  {
   "cell_type": "code",
   "execution_count": null,
   "metadata": {},
   "outputs": [],
   "source": [
    "fruits = [\"apple\", \"banana\", \"cherry\"]\n",
    "for fruit in fruits:\n",
    "    print(fruit)\n"
   ]
  },
  {
   "cell_type": "code",
   "execution_count": null,
   "metadata": {},
   "outputs": [],
   "source": [
    "for index, fruit in enumerate(fruits):\n",
    "    print(f\"Index {index}: {fruit}\")\n"
   ]
  },
  {
   "cell_type": "code",
   "execution_count": null,
   "metadata": {},
   "outputs": [],
   "source": [
    "x = 0\n",
    "while x < 5:\n",
    "    if x == 3:\n",
    "        break  # Exit loop when x is 3\n",
    "    print(x)\n",
    "    x += 1\n"
   ]
  },
  {
   "cell_type": "code",
   "execution_count": null,
   "metadata": {},
   "outputs": [],
   "source": [
    "x = 0\n",
    "while x < 5:\n",
    "    x += 1\n",
    "    if x == 3:\n",
    "        continue  # Skip printing 3\n",
    "    print(x)\n"
   ]
  },
  {
   "cell_type": "code",
   "execution_count": null,
   "metadata": {},
   "outputs": [],
   "source": [
    "\n",
    "\n",
    "def modulo(a, b):\n",
    "    return a % b\n",
    "\n",
    "result = modulo(53, 10) #storing value from a funtion\n",
    "print(result)  \n"
   ]
  },
  {
   "cell_type": "code",
   "execution_count": null,
   "metadata": {},
   "outputs": [],
   "source": [
    "#string ke andr ki batein\n",
    "def greet(name=\"Guest\"):\n",
    "    print(f\"Hello, {name}!\") #f, r other such things\n",
    "\n",
    "greet(\"Roxu\")  # Output: by new passevalue\n",
    "greet()  # Output: by default given value\n"
   ]
  },
  {
   "cell_type": "code",
   "execution_count": null,
   "metadata": {},
   "outputs": [],
   "source": [
    "def calculate(a, b):\n",
    "    sum_value = a + b\n",
    "    product_value = a * b\n",
    "    return sum_value, product_value\n",
    "# return value halwa thodi hai\n",
    "sum_result, product_result = calculate(4, 5)\n",
    "print(sum_result, product_result)  # Output: 9 20\n"
   ]
  },
  {
   "cell_type": "code",
   "execution_count": null,
   "metadata": {},
   "outputs": [],
   "source": [
    "file = open(\"example.txt\", \"w\")  # Open in write mode\n",
    "file.write(\"Hello, this is a test file.\")\n",
    "file.close()\n"
   ]
  },
  {
   "cell_type": "code",
   "execution_count": null,
   "metadata": {},
   "outputs": [],
   "source": [
    "file = open(\"example.txt\", \"r\")  # Open in read mode\n",
    "content = file.read()\n",
    "print(content)\n",
    "file.close()\n"
   ]
  },
  {
   "cell_type": "code",
   "execution_count": null,
   "metadata": {},
   "outputs": [],
   "source": [
    "file = open(\"example.txt\", \"a\")  # Open in append mode\n",
    "file.write(\"\\n \\n \\n Appending new content.\")\n",
    "file.close()\n"
   ]
  },
  {
   "cell_type": "code",
   "execution_count": null,
   "metadata": {},
   "outputs": [],
   "source": []
  },
  {
   "cell_type": "code",
   "execution_count": null,
   "metadata": {},
   "outputs": [],
   "source": [
    "file = open(\"example.txt\", \"r\")\n",
    "for line in file:\n",
    "    print(line.strip())  # strip() removes newline characters\n",
    "file.close()\n"
   ]
  },
  {
   "cell_type": "code",
   "execution_count": null,
   "metadata": {},
   "outputs": [],
   "source": [
    "with open(\"example.txt\", \"r\") as file:\n",
    "    content = file.read()\n",
    "    print(content)\n"
   ]
  },
  {
   "cell_type": "code",
   "execution_count": null,
   "metadata": {},
   "outputs": [],
   "source": [
    "try:\n",
    "    with open(\"non_existent.txt\", \"r\") as file:\n",
    "        content = file.read()\n",
    "except FileNotFoundError:\n",
    "    print(\"File not found. Please check the filename.\")\n"
   ]
  },
  {
   "cell_type": "code",
   "execution_count": null,
   "metadata": {},
   "outputs": [],
   "source": [
    "try:\n",
    "    result = 10 / 0  # Division by zero\n",
    "except ZeroDivisionError:\n",
    "    print(\"Error: Cannot divide by zero!\")\n"
   ]
  },
  {
   "cell_type": "code",
   "execution_count": null,
   "metadata": {},
   "outputs": [],
   "source": [
    "x = -1\n",
    "assert x >= 0, \"x should be non-negative\"\n"
   ]
  },
  {
   "cell_type": "markdown",
   "metadata": {},
   "source": [
    "#first learn: module making and importing then continue\n",
    "mypackage/\n",
    "    __init__.py\n",
    "    module1.py\n",
    "    module2.py\n",
    "import mymodule or from mymodule import greet\n",
    "from mypackage import module1, module2"
   ]
  },
  {
   "cell_type": "markdown",
   "metadata": {},
   "source": [
    "#  modules"
   ]
  },
  {
   "cell_type": "markdown",
   "metadata": {},
   "source": [
    "help('modules') for built in modules\n",
    "non builtin have python package installer"
   ]
  },
  {
   "cell_type": "code",
   "execution_count": null,
   "metadata": {},
   "outputs": [],
   "source": [
    "import random  \n",
    "num = random.randint(1, 100) #randint is function\n",
    "print(\"Random integer between 1 and 100: {num}\")\n",
    "fruits = [  ]\n",
    "chosen_fruit = random.choice(fruits)\n",
    "print(f\"Randomly chosen language: {chosen_fruit}\")\n",
    "#other functions under randommodule is"
   ]
  },
  {
   "cell_type": "code",
   "execution_count": null,
   "metadata": {},
   "outputs": [],
   "source": [
    "import math\n",
    "sqrt_val = math.sqrt(64)\n",
    "pi_const = math.pi\n",
    "print(sqrt_val)\n",
    "print(pi_const)\n"
   ]
  },
  {
   "cell_type": "code",
   "execution_count": null,
   "metadata": {},
   "outputs": [],
   "source": [
    "import datetime\n",
    "date_today = datetime.date.today()\n",
    "time_now = datetime.datetime.now().time()\n",
    "print(date_today)\n",
    "print(time_now)\n"
   ]
  },
  {
   "cell_type": "code",
   "execution_count": null,
   "metadata": {},
   "outputs": [],
   "source": [
    "import tkinter as tk  \n",
    "def on_button_click():  \n",
    "    label.config(text=\"Hello\")\n",
    "\n",
    "root = tk.Tk()\n",
    "root.title(\"Tkinter Example\")  \n",
    "label = tk.Label(root, text=\"Click the button\")  \n",
    "label.pack(pady=40)  \n",
    "button = tk.Button(root, text=\"Click Me\", command=on_button_click()) \n",
    "button.pack(pady=40)  \n",
    "root.mainloop() \n"
   ]
  },
  {
   "cell_type": "code",
   "execution_count": null,
   "metadata": {},
   "outputs": [],
   "source": [
    "%matplotlib inline\n",
    "import matplotlib.pyplot as plt\n",
    "\n",
    "plt.plot([1, 2, 3], [2, 4, 6])\n",
    "plt.title(\"Simple Plot\")\n",
    "plt.show()\n"
   ]
  },
  {
   "cell_type": "code",
   "execution_count": null,
   "metadata": {},
   "outputs": [],
   "source": [
    "%matplotlib inline\n",
    "import matplotlib.pyplot as plt\n",
    " plt.barh([1, 2, 3], [2, 4, 6])\n"
   ]
  },
  {
   "cell_type": "code",
   "execution_count": null,
   "metadata": {},
   "outputs": [],
   "source": [
    "\n",
    "\n",
    "plt.plot(x, y)\tCreates a line plot.\n",
    "plt.scatter(x, y)\tCreates a scatter plot.\n",
    "plt.bar(x, y)\tCreates a bar chart.\n",
    "plt.barh(x, y)\tCreates a horizontal bar chart.\n",
    "plt.hist(data, bins=n)\tCreates a histogram.\n",
    "plt.pie(sizes, labels=labels)\tCreates a pie chart.\n",
    "plt.title(\"My Graph\")\tSets the title of the plot.\n",
    "plt.xlabel(\"X-axis label\")\tSets the x-axis label.\n",
    "plt.ylabel(\"Y-axis label\")\tSets the y-axis label.\n",
    "plt.legend()\tDisplays a legend if labels are provided.\n",
    "plt.text(x, y, \"Label\")\tAdds text at (x, y) on the plot.\n",
    "plt.xlim(a, b)\tSets the x-axis limits.\n",
    "plt.ylim(a, b)\tSets the y-axis limits.\n",
    "plt.xticks([values])\tCustomizes x-axis tick marks.\n",
    "plt.yticks([values])\tCustomizes y-axis tick marks.\n",
    "plt.grid(True)\tEnables a grid on the plot.\n",
    "plt.subplot(rows, cols, index)\tCreates subplots in a single figure.\n",
    "plt.subplots(nrows, ncols)\tCreates multiple subplots at once.\n",
    "fig, ax = plt.subplots()\tMore advanced subplot management.\n",
    "plt.show()\tDisplays the plot.\n",
    "plt.savefig(\"plot.png\")\tSaves the plot as an image.\n",
    "plt.close()\tCloses the current figure.\n",
    "plt.style.use(\"ggplot\")\tApplies a style to the plot.\n",
    "plt.set_cmap(\"viridis\")\tSets a color map.\n",
    "plt.plot(x, y, linestyle=\"--\", color=\"r\", marker=\"o\")\tCustomizes line style, color, and markers."
   ]
  },
  {
   "cell_type": "code",
   "execution_count": null,
   "metadata": {},
   "outputs": [],
   "source": [
    "import matplotlib.pyplot as plt\n",
    "\n",
    "data = {1: 4, 2: 5, 3: 6}\n",
    "plt.plot(data.keys(), data.values())  # Keys as x, values as y\n",
    "plt.show()\n"
   ]
  },
  {
   "cell_type": "code",
   "execution_count": null,
   "metadata": {},
   "outputs": [],
   "source": [
    "import matplotlib.pyplot as plt\n",
    "import numpy as np\n",
    "\n",
    "x = np.array([1, 2, 3])\n",
    "y = np.array([4, 5, 6])\n",
    "\n",
    "plt.plot(x, y)\n",
    "plt.show()\n"
   ]
  },
  {
   "cell_type": "code",
   "execution_count": null,
   "metadata": {},
   "outputs": [],
   "source": [
    "import matplotlib.pyplot as plt\n",
    "\n",
    "plt.plot([1, 2, 3], [2, 5, 12], marker=\"o\", linestyle=\"--\", color=\"r\")\n",
    "plt.show()\n"
   ]
  },
  {
   "cell_type": "code",
   "execution_count": null,
   "metadata": {},
   "outputs": [],
   "source": [
    "import matplotlib.pyplot as plt\n",
    "\n",
    "x = [1, 2, 3]\n",
    "y1 = [4, 5, 6]\n",
    "y2 = [6, 5, 4]\n",
    "\n",
    "plt.plot(x, y1, label=\"Line 1\", color=\"b\")\n",
    "plt.plot(x, y2, label=\"Line 2\", color=\"g\")\n",
    "\n",
    "plt.legend()\n",
    "plt.show()\n"
   ]
  },
  {
   "cell_type": "code",
   "execution_count": null,
   "metadata": {},
   "outputs": [],
   "source": [
    "%matplotlib inline\n",
    "import matplotlib.pyplot as plt\n",
    "import numpy as np\n",
    "\n",
    "# Generate x values from -10 to 10\n",
    "x = np.linspace(-10, 10, 100)\n",
    "y = x ** 2  # y = x²\n",
    "\n",
    "# Plot the graph\n",
    "plt.plot(x, y, label=\"y = x²\", color='b')\n",
    "\n",
    "# Add labels and title\n",
    "plt.xlabel(\"x-axis\")\n",
    "plt.ylabel(\"y-axis\")\n",
    "plt.title(\"Graph of y = x²\")\n",
    "plt.legend()  # Show legend\n",
    "\n",
    "# Show the plot\n",
    "plt.show()\n"
   ]
  },
  {
   "cell_type": "code",
   "execution_count": null,
   "metadata": {},
   "outputs": [],
   "source": [
    "import matplotlib.pyplot as plt\n",
    "import numpy as np\n",
    "\n",
    "x = np.linspace(-2 * np.pi, 2 * np.pi, 400)\n",
    "y = np.sin(x)\n",
    "\n",
    "plt.plot(x, y, label=\"y = sin(x)\", color=\"r\")\n",
    "plt.legend()\n",
    "plt.show()\n"
   ]
  },
  {
   "cell_type": "code",
   "execution_count": null,
   "metadata": {},
   "outputs": [],
   "source": [
    "import matplotlib.pyplot as plt\n",
    "y = x+2\n",
    "plt.scatter(x, y)\t# Creates a scatter plot.\n",
    "# plt.barh(x, y)\t# Creates a horizontal bar chart."
   ]
  },
  {
   "cell_type": "code",
   "execution_count": null,
   "metadata": {},
   "outputs": [],
   "source": [
    "import matplotlib.pyplot as plt\n",
    "import numpy as np\n",
    "\n",
    "x = np.linspace(1, 10, 10)\n",
    "y = x ** 2\n",
    "error = np.random.uniform(2, 5, size=10)  # Random error values\n",
    "\n",
    "plt.errorbar(x, y, yerr=error, fmt='o', color='b', label=\"Data with error bars\")\n",
    "plt.legend()\n",
    "plt.show()\n"
   ]
  },
  {
   "cell_type": "code",
   "execution_count": null,
   "metadata": {},
   "outputs": [],
   "source": [
    "plt.bar(x, y)\t# Creates a bar chart."
   ]
  },
  {
   "cell_type": "code",
   "execution_count": null,
   "metadata": {},
   "outputs": [],
   "source": [
    "import matplotlib.pyplot as plt\n",
    "import numpy as np\n",
    "from mpl_toolkits.mplot3d import Axes3D\n",
    "\n",
    "fig = plt.figure()\n",
    "ax = fig.add_subplot(111, projection='3d')\n",
    "\n",
    "x = np.linspace(-5, 5, 100)\n",
    "y = np.linspace(-5, 5, 100)\n",
    "X, Y = np.meshgrid(x, y)\n",
    "Z = np.sin(np.sqrt(X**2 + Y**2))  # 3D wave function\n",
    "\n",
    "ax.plot_surface(X, Y, Z, cmap=\"coolwarm\")  # 3D surface plot\n",
    "plt.show()\n"
   ]
  },
  {
   "cell_type": "code",
   "execution_count": null,
   "metadata": {},
   "outputs": [],
   "source": [
    "import numpy as np\n",
    "import matplotlib.pyplot as plt\n",
    "import matplotlib.animation as animation\n",
    "\n",
    "fig, ax = plt.subplots()\n",
    "x = np.linspace(0, 10, 100)\n",
    "line, = ax.plot(x, np.sin(x))\n",
    "\n",
    "def update(frame):\n",
    "    line.set_ydata(np.sin(x + frame / 10))\n",
    "    return line,\n",
    "\n",
    "ani = animation.FuncAnimation(fig, update, frames=100, interval=50)\n",
    "plt.show()\n"
   ]
  },
  {
   "cell_type": "code",
   "execution_count": null,
   "metadata": {},
   "outputs": [],
   "source": [
    "import matplotlib.pyplot as plt\n",
    "import numpy as np\n",
    "\n",
    "plt.ion()  # Enable interactive mode\n",
    "x = np.linspace(0, 10, 100)\n",
    "y = np.sin(x)\n",
    "\n",
    "for i in range(5):\n",
    "    plt.plot(x, y + i, label=f\"Wave {i}\")\n",
    "    plt.legend()\n",
    "    plt.pause(0.5)  # Pause for half a second\n",
    "plt.ioff()  # Disable interactive mode\n",
    "plt.show()\n"
   ]
  },
  {
   "cell_type": "code",
   "execution_count": null,
   "metadata": {},
   "outputs": [],
   "source": [
    "import matplotlib.pyplot as plt\n",
    "import numpy as np\n",
    "\n",
    "theta = np.linspace(0, 2*np.pi, 100)\n",
    "r = np.abs(np.sin(2*theta))  # Some polar function\n",
    "\n",
    "plt.polar(theta, r, color=\"r\")  # Polar plot\n",
    "plt.show()\n"
   ]
  },
  {
   "cell_type": "code",
   "execution_count": null,
   "metadata": {},
   "outputs": [],
   "source": [
    "import matplotlib.pyplot as plt\n",
    "import numpy as np\n",
    "\n",
    "data = np.random.rand(10, 10)  # 10x10 matrix with random values\n",
    "plt.imshow(data, cmap='coolwarm', interpolation='nearest')\n",
    "plt.colorbar()  # Show color scale\n",
    "plt.show()\n"
   ]
  },
  {
   "cell_type": "code",
   "execution_count": null,
   "metadata": {},
   "outputs": [],
   "source": [
    "import matplotlib.pyplot as plt\n",
    "import numpy as np\n",
    "\n",
    "x = np.linspace(0, 10, 100)\n",
    "y = np.sin(x)\n",
    "\n",
    "plt.plot(x, y)\n",
    "plt.xticks([0, 2, 4, 6, 8, 10], [\"Zero\", \"Two\", \"Four\", \"Six\", \"Eight\", \"Ten\"], rotation=45)\n",
    "plt.yticks([-1, 0, 1], [\"Min\", \"Zero\", \"Max\"])\n",
    "plt.show()\n"
   ]
  },
  {
   "cell_type": "code",
   "execution_count": null,
   "metadata": {},
   "outputs": [],
   "source": [
    "import matplotlib.pyplot as plt\n",
    "import numpy as np\n",
    "\n",
    "x = np.linspace(0, 10, 100)\n",
    "y1 = np.sin(x)\n",
    "y2 = np.exp(x / 5)\n",
    "\n",
    "fig, ax1 = plt.subplots()\n",
    "ax2 = ax1.twinx()  # Create second y-axis\n",
    "\n",
    "ax1.plot(x, y1, 'g-', label=\"sin(x)\")\n",
    "ax2.plot(x, y2, 'b-', label=\"exp(x)\")\n",
    "\n",
    "ax1.set_ylabel(\"sin(x)\", color=\"g\")\n",
    "ax2.set_ylabel(\"exp(x)\", color=\"b\")\n",
    "\n",
    "plt.show()\n"
   ]
  },
  {
   "cell_type": "code",
   "execution_count": null,
   "metadata": {},
   "outputs": [],
   "source": [
    "import matplotlib.pyplot as plt\n",
    "import numpy as np\n",
    "\n",
    "x = np.linspace(0, 10, 100)\n",
    "y = np.sin(x)\n",
    "\n",
    "plt.fill_between(x, y, color=\"skyblue\", alpha=0.4)\n",
    "plt.plot(x, y, color=\"blue\")\n",
    "plt.show()\n"
   ]
  },
  {
   "cell_type": "code",
   "execution_count": null,
   "metadata": {},
   "outputs": [],
   "source": [
    "import matplotlib.pyplot as plt\n",
    "import numpy as np\n",
    "\n",
    "x = np.linspace(0, 10, 100)\n",
    "y = np.sin(x)\n",
    "\n",
    "plt.plot(x, y, label=\"sin(x)\")\n",
    "plt.annotate(\"Peak\", xy=(np.pi/2, 1), xytext=(2, 1.5), arrowprops=dict(facecolor='red'))\n",
    "plt.legend()\n",
    "plt.show()\n"
   ]
  },
  {
   "cell_type": "code",
   "execution_count": null,
   "metadata": {},
   "outputs": [],
   "source": [
    "%matplotlib notebook\n",
    "import matplotlib.pyplot as plt\n",
    "import numpy as np\n",
    "\n",
    "x = np.linspace(0, 10, 100)\n",
    "y = np.sin(x)\n",
    "\n",
    "plt.plot(x, y)\n",
    "plt.show()\n"
   ]
  },
  {
   "cell_type": "code",
   "execution_count": null,
   "metadata": {},
   "outputs": [],
   "source": [
    "import matplotlib.pyplot as plt\n",
    "import numpy as np\n",
    "\n",
    "x = np.linspace(1, 100, 100)\n",
    "y = np.log(x)\n",
    "\n",
    "plt.plot(x, y)\n",
    "plt.xscale(\"log\")  # Logarithmic scale for x-axis\n",
    "plt.yscale(\"log\")  # Logarithmic scale for y-axis\n",
    "plt.show()\n"
   ]
  },
  {
   "cell_type": "code",
   "execution_count": null,
   "metadata": {},
   "outputs": [],
   "source": [
    "import matplotlib.pyplot as plt\n",
    "import numpy as np\n",
    "\n",
    "x = np.linspace(-10, 10, 100)\n",
    "y = x ** 2\n",
    "\n",
    "plt.plot(x, y, label=\"y = x²\")\n",
    "plt.text(0, 50, \"This is the vertex!\", fontsize=12, color=\"red\")  # Add text at (0, 50)\n",
    "plt.legend()\n",
    "plt.show()\n"
   ]
  },
  {
   "cell_type": "markdown",
   "metadata": {},
   "source": [
    "numpy now\n"
   ]
  },
  {
   "cell_type": "code",
   "execution_count": null,
   "metadata": {},
   "outputs": [],
   "source": [
    "arr2D = np.array([[1, 2, 3], [4, 5, 6]])\n",
    "print(arr2D)\n",
    "arr3D = np.array([[[1, 2], [3, 4]], [[5, 6], [7, 8]]])\n",
    "print(arr3D)\n",
    "print(arr2D.shape)  # (rows, columns)\n",
    "print(arr2D.size)   # Total elements\n",
    "print(arr2D.dtype)  # Data type of elements\n",
    "\n"
   ]
  },
  {
   "cell_type": "code",
   "execution_count": null,
   "metadata": {},
   "outputs": [],
   "source": [
    "zeros = np.zeros((3, 3))   # 3x3 matrix of zeros\n",
    "ones = np.ones((2, 2))     # 2x2 matrix of ones\n",
    "identity = np.eye(4)       # 4x4 Identity matrix\n",
    "rand = np.random.rand(3, 3) # Random values between 0 and 1\n",
    "arr1 = np.array([1, 2, 3])\n",
    "arr2 = np.array([4, 5, 6])\n",
    "\n",
    "print(arr1 + arr2)  # [5 7 9]\n",
    "print(arr1 * arr2)  # [4 10 18]\n",
    "print(arr1 ** 2)    # [1 4 9]\n",
    "arr = np.array([10, 20, 30, 40, 50])\n",
    "print(arr[1:4])  # [20 30 40]\n",
    "print(arr[arr > 25])\n",
    "print(rand)\n",
    "\n",
    "matrix = np.array([[1, 2, 3], [4, 5, 6], [7, 8, 9]])\n",
    "print(matrix[:, 1])  # Extract second column\n",
    "print(matrix[0, :])  # Extract first row\n",
    "\n",
    "arr = np.array([100, 200, 300, 400, 500])\n",
    "idx = [0, 3, 4]  # Pick specific indices\n",
    "print(arr[idx])\n",
    "print(arr / 10)\n",
    "\n",
    "arr = np.array([4, 2, 8, 1, 5])\n",
    "print(np.sort(arr))  # [1 2 4 5 8]\n",
    "arr = np.array([10, 20, 30, 40])\n",
    "print(np.where(arr == 30))  # Find index of 30\n"
   ]
  },
  {
   "cell_type": "code",
   "execution_count": null,
   "metadata": {},
   "outputs": [],
   "source": [
    "arr = np.array([1, 2, 3, 4])\n",
    "print(np.sin(arr))   # Sine values\n",
    "print(np.sqrt(arr))  # Square root\n",
    "print(np.sum(arr))   # Sum of all elements\n",
    "print(np.log(arr))   # Natural log\n",
    "print(np.exp(arr))   # Exponential function\n",
    "print(np.abs(arr))   # Absolute values\n"
   ]
  },
  {
   "cell_type": "code",
   "execution_count": null,
   "metadata": {},
   "outputs": [],
   "source": [
    "arr = np.array([1, 2, 1, -1, -2, -1])\n",
    "print(np.fft.fft(arr))  # Compute Fourier Transform\n"
   ]
  },
  {
   "cell_type": "code",
   "execution_count": null,
   "metadata": {},
   "outputs": [],
   "source": [
    "# polynomial fitting\n",
    "p = np.poly1d([1, -2, 1])  # Polynomial: x² - 2x + 1\n",
    "print(p(2))  # Evaluate polynomial at x=2\n"
   ]
  },
  {
   "cell_type": "code",
   "execution_count": null,
   "metadata": {},
   "outputs": [],
   "source": [
    "import numpy as np\n",
    "from scipy.sparse import csr_matrix\n",
    "\n",
    "dense_matrix = np.array([[0, 0, 3], [0, 5, 0], [7, 0, 0]])\n",
    "sparse_matrix = csr_matrix(dense_matrix)\n",
    "\n",
    "print(sparse_matrix)  # Only stores non-zero values!\n"
   ]
  },
  {
   "cell_type": "code",
   "execution_count": null,
   "metadata": {},
   "outputs": [],
   "source": [
    "#sliding window algo\n",
    "\n",
    "from numpy.lib.stride_tricks import as_strided\n",
    "\n",
    "arr = np.arange(10)\n",
    "window_size = 3\n",
    "strided = as_strided(arr, shape=(8, 3), strides=(arr.strides[0], arr.strides[0]))\n",
    "print(strided)\n"
   ]
  },
  {
   "cell_type": "code",
   "execution_count": null,
   "metadata": {},
   "outputs": [],
   "source": [
    "arr = np.arange(12)  # [0,1,2,3,...,11]\n",
    "reshaped = arr.reshape(3, 4)  # Converts to 3x4 matrix\n",
    "print(reshaped)\n"
   ]
  },
  {
   "cell_type": "code",
   "execution_count": null,
   "metadata": {},
   "outputs": [],
   "source": [
    "arr = np.array([1, 2, 3], dtype=np.int8)  # Uses less memory\n",
    "print(arr.dtype)  # int8\n"
   ]
  },
  {
   "cell_type": "code",
   "execution_count": null,
   "metadata": {},
   "outputs": [],
   "source": [
    "A = np.array([[1, 2], [3, 4]])\n",
    "B = np.array([[5, 6], [7, 8]])\n",
    "\n",
    "print(np.dot(A, B))  # OR use A @ B\n"
   ]
  },
  {
   "cell_type": "code",
   "execution_count": null,
   "metadata": {},
   "outputs": [],
   "source": [
    "from numpy.linalg import inv, det, eig\n",
    "matrix = np.array([[4, 7], [2, 6]])\n",
    "\n",
    "print(det(matrix))  # Determinant\n",
    "print(inv(matrix))  # Inverse\n",
    "print(eig(matrix))  # Eigenvalues & Eigenvectors\n"
   ]
  },
  {
   "cell_type": "code",
   "execution_count": null,
   "metadata": {},
   "outputs": [],
   "source": [
    "data = np.array([(1, 'Alice', 50.5), (2, 'Bob', 75.8)],\n",
    "                dtype=[('ID', 'i4'), ('Name', 'U10'), ('Score', 'f4')])\n",
    "\n",
    "print(data['Name'])  # Output: ['Alice' 'Bob']\n",
    "print(data['Score'].mean())  # Calculate mean score\n"
   ]
  },
  {
   "cell_type": "code",
   "execution_count": null,
   "metadata": {},
   "outputs": [],
   "source": [
    "A = np.random.rand(1000, 1000)\n",
    "B = np.random.rand(1000, 1000)\n",
    "C = np.dot(A, B)  # MUCH faster than loops!\n"
   ]
  },
  {
   "cell_type": "code",
   "execution_count": null,
   "metadata": {},
   "outputs": [],
   "source": [
    "import numpy as np \n",
    "A = np.random.rand(1000, 1000)\n",
    "B = np.random.rand(1000, 1000)\n",
    "C = np.dot(A, B)  # MUCH faster than loops!\n"
   ]
  },
  {
   "cell_type": "code",
   "execution_count": null,
   "metadata": {},
   "outputs": [],
   "source": [
    "X, Y = np.mgrid[0:5, 0:5]  # Efficient meshgrid\n"
   ]
  },
  {
   "cell_type": "code",
   "execution_count": null,
   "metadata": {},
   "outputs": [],
   "source": [
    "A = np.random.rand(100, 100)\n",
    "B = np.random.rand(100, 100)\n",
    "C = np.einsum('ij,jk->ik', A, B)  # Faster matrix multiplication\n"
   ]
  },
  {
   "cell_type": "code",
   "execution_count": null,
   "metadata": {},
   "outputs": [],
   "source": [
    "rng = np.random.default_rng()  # New random generator\n",
    "arr = rng.integers(1, 100, size=(5,))  # Random integers\n",
    "print(arr)\n",
    "np.random.shuffle(arr)\n",
    "print(arr)"
   ]
  },
  {
   "cell_type": "code",
   "execution_count": null,
   "metadata": {},
   "outputs": [],
   "source": [
    "choices = np.random.choice(['A', 'B', 'C'], p=[0.1, 0.3, 0.6], size=10)\n",
    "print(choices)\n"
   ]
  },
  {
   "cell_type": "code",
   "execution_count": null,
   "metadata": {},
   "outputs": [],
   "source": [
    "samples = np.random.normal(loc=0, scale=1, size=1000)\n"
   ]
  },
  {
   "cell_type": "code",
   "execution_count": null,
   "metadata": {},
   "outputs": [],
   "source": [
    "def custom_func(x, y):\n",
    "    return x ** 2 + y ** 2\n",
    "\n",
    "vectorized_func = np.frompyfunc(custom_func, 2, 1)  # Create ufunc\n",
    "arr1 = np.array([1, 2, 3])\n",
    "arr2 = np.array([4, 5, 6])\n",
    "\n",
    "print(vectorized_func(arr1, arr2))  # Output: [17 29 45]\n"
   ]
  },
  {
   "cell_type": "code",
   "execution_count": null,
   "metadata": {},
   "outputs": [],
   "source": [
    "arr = np.arange(16).reshape(4, 4)\n",
    "rows = np.array([0, 2])  # Select row indices\n",
    "cols = np.array([1, 3])  # Select column indices\n",
    "\n",
    "print(arr[np.ix_(rows, cols)])  # Extract sub-matrix\n"
   ]
  },
  {
   "cell_type": "markdown",
   "metadata": {},
   "source": [
    "sys module"
   ]
  },
  {
   "cell_type": "code",
   "execution_count": null,
   "metadata": {},
   "outputs": [],
   "source": [
    "import sys\n",
    "list_data = [i for i in range(1000)]\n",
    "numpy_data = np.arange(1000)\n",
    "\n",
    "print(sys.getsizeof(list_data))  # Python list size\n",
    "print(numpy_data.nbytes)  # NumPy array size\n"
   ]
  },
  {
   "cell_type": "markdown",
   "metadata": {},
   "source": [
    "Panda"
   ]
  },
  {
   "cell_type": "code",
   "execution_count": null,
   "metadata": {},
   "outputs": [],
   "source": [
    "import pandas as pd\n",
    "import numpy as np\n",
    "\n",
    "arrays = [\n",
    "    ['A', 'A', 'B', 'B'],\n",
    "    ['one', 'two', 'one', 'two']\n",
    "]\n",
    "\n",
    "index = pd.MultiIndex.from_arrays(arrays, names=('Letter', 'Number'))\n",
    "df = pd.DataFrame(np.random.randn(4, 2), index=index, columns=['X', 'Y'])\n",
    "\n",
    "print(df)\n"
   ]
  },
  {
   "cell_type": "code",
   "execution_count": null,
   "metadata": {},
   "outputs": [],
   "source": [
    "data = {'Department': ['IT', 'IT', 'HR', 'HR', 'Finance'],\n",
    "        'Salary': [60000, 65000, 50000, 52000, 70000]}\n",
    "\n",
    "df = pd.DataFrame(data)\n",
    "grouped = df.groupby('Department').mean()  # Average salary per department\n",
    "\n",
    "print(grouped)\n"
   ]
  },
  {
   "cell_type": "code",
   "execution_count": null,
   "metadata": {},
   "outputs": [],
   "source": [
    "df = pd.DataFrame({'Year': [2020, 2020, 2021, 2021],\n",
    "                   'Department': ['IT', 'HR', 'IT', 'HR'],\n",
    "                   'Salary': [60000, 50000, 65000, 52000]})\n",
    "\n",
    "pivot = df.pivot_table(values='Salary', index='Department', columns='Year', aggfunc='mean')\n",
    "print(pivot)\n"
   ]
  },
  {
   "cell_type": "code",
   "execution_count": null,
   "metadata": {},
   "outputs": [],
   "source": [
    "df1 = pd.DataFrame({'ID': [1, 2, 3], 'Name': ['Alice', 'Bob', 'Charlie']})\n",
    "df2 = pd.DataFrame({'ID': [1, 2, 4], 'Score': [85, 90, 75]})\n",
    "\n",
    "merged = df1.merge(df2, on='ID', how='inner')  # Inner join\n",
    "print(merged)\n"
   ]
  },
  {
   "cell_type": "code",
   "execution_count": null,
   "metadata": {},
   "outputs": [],
   "source": [
    "date_range = pd.date_range(start='2023-01-01', periods=5, freq='D')\n",
    "print(date_range)\n",
    "# df['Date'] = pd.to_datetime(df['Date'])\n",
    "# df.set_index('Date').resample('M').mean()  # Monthly average\n"
   ]
  },
  {
   "cell_type": "code",
   "execution_count": null,
   "metadata": {},
   "outputs": [],
   "source": [
    "\n",
    "df['Bonus'] = df['Salary'].apply(lambda x: x * 0.1)\n",
    "\n"
   ]
  },
  {
   "cell_type": "code",
   "execution_count": null,
   "metadata": {},
   "outputs": [],
   "source": [
    "df.fillna(0, inplace=True)  # Replace NaNs with 0\n"
   ]
  },
  {
   "cell_type": "code",
   "execution_count": null,
   "metadata": {},
   "outputs": [],
   "source": [
    "df.dropna(inplace=True)\n",
    "#rows dropped with missing data"
   ]
  },
  {
   "cell_type": "code",
   "execution_count": null,
   "metadata": {},
   "outputs": [],
   "source": [
    "df.ffill(inplace=True)  # Fill with previous value\n",
    "df.bfill(inplace=True)  # Fill with next value\n"
   ]
  },
  {
   "cell_type": "code",
   "execution_count": null,
   "metadata": {},
   "outputs": [],
   "source": [
    "import pandas as pd\n",
    "import numpy as np\n",
    "\n",
    "df = pd.DataFrame({'Day': range(1, 11), 'Sales': [5, 8, 12, 10, 15, 20, 22, 18, 25, 30]})\n",
    "\n",
    "df['Rolling_Mean'] = df['Sales'].rolling(window=3).mean()  # 3-day moving average\n",
    "df['Cumulative_Avg'] = df['Sales'].expanding().mean()\n",
    "\n",
    "print(df)\n"
   ]
  },
  {
   "cell_type": "code",
   "execution_count": null,
   "metadata": {},
   "outputs": [],
   "source": [
    "df = pd.DataFrame({'Name': ['Alice', 'Bob', 'Charlie', 'David'],\n",
    "                   'Age': [25, 30, 35, 40],\n",
    "                   'Salary': [50000, 60000, 70000, 80000]})\n",
    "\n",
    "filtered_df = df.query('Age > 30 & Salary > 65000')  \n",
    "print(filtered_df)\n",
    "# SELECT * FROM df WHERE Age > 30 AND Salary > 65000;\n"
   ]
  },
  {
   "cell_type": "code",
   "execution_count": null,
   "metadata": {},
   "outputs": [],
   "source": [
    "df = pd.DataFrame({'Name': ['Alice', 'Bob', 'Charlie', 'David'],\n",
    "                   'Age': [25, 30, 35, 40],\n",
    "                   'Salary': [50000, 60000, 70000, 80000]})\n",
    "df['NewSalary'] = df.eval('Salary * 1.1')  # 10% increment\n",
    "print(filtered_df)"
   ]
  },
  {
   "cell_type": "code",
   "execution_count": null,
   "metadata": {},
   "outputs": [],
   "source": [
    "df1 = pd.DataFrame({'ID': [1, 2, 3], 'Name': ['Alice', 'Bob', 'Charlie']})\n",
    "df2 = pd.DataFrame({'ID': [2, 3, 4], 'Score': [85, 90, 75]})\n",
    "\n",
    "merged_inner = df1.merge(df2, on='ID', how='inner')   # INNER JOIN\n",
    "merged_outer = df1.merge(df2, on='ID', how='outer')   # OUTER JOIN\n"
   ]
  },
  {
   "cell_type": "code",
   "execution_count": null,
   "metadata": {},
   "outputs": [],
   "source": [
    "df = pd.DataFrame({'Name': ['Alice', 'Bob'],\n",
    "                   'Hobbies': [['Reading', 'Swimming'], ['Gaming', 'Cycling']]})\n",
    "\n",
    "df_exploded = df.explode('Hobbies')\n",
    "print(df_exploded)\n"
   ]
  },
  {
   "cell_type": "code",
   "execution_count": null,
   "metadata": {},
   "outputs": [],
   "source": [
    "df['LowerName'] = df['Name'].str.lower()   # Convert to lowercase\n",
    "df['Contains_A'] = df['Name'].str.contains('A', case=False)  # Check if contains 'A'\n",
    "df['Initial'] = df['Name'].str[0]   # Extract first letter\n"
   ]
  },
  {
   "cell_type": "code",
   "execution_count": null,
   "metadata": {},
   "outputs": [],
   "source": [
    "# !🔹 Storing Pandas DataFrame in SQLite\n",
    "\n",
    "import sqlite3\n",
    "\n",
    "conn = sqlite3.connect('mydatabase.db')\n",
    "df.to_sql('employees', conn, if_exists='replace', index=False)\n",
    "df_from_sql = pd.read_sql(\"SELECT * FROM employees WHERE Age > 30\", conn)\n",
    "df['Category'] = df['Category'].astype('category')  \n",
    "df['NewColumn'] = df['Salary'].apply(lambda x: x * 1.1)\n",
    "\n"
   ]
  },
  {
   "cell_type": "markdown",
   "metadata": {},
   "source": [
    "Seaborn"
   ]
  },
  {
   "cell_type": "code",
   "execution_count": null,
   "metadata": {},
   "outputs": [],
   "source": [
    "import seaborn as sns\n",
    "import matplotlib.pyplot as plt\n",
    "import pandas as pd\n",
    "tips = sns.load_dataset(\"tips\")\n",
    "sns.lineplot(x=\"total_bill\", y=\"tip\", data=tips)\n",
    "plt.show()\n"
   ]
  },
  {
   "cell_type": "code",
   "execution_count": null,
   "metadata": {},
   "outputs": [],
   "source": [
    "sns.scatterplot(x=\"total_bill\", y=\"tip\", hue=\"sex\", data=tips)\n",
    "plt.show()\n"
   ]
  },
  {
   "cell_type": "code",
   "execution_count": null,
   "metadata": {},
   "outputs": [],
   "source": [
    "sns.barplot(x=\"day\", y=\"total_bill\", data=tips)\n",
    "plt.show()\n"
   ]
  },
  {
   "cell_type": "code",
   "execution_count": null,
   "metadata": {},
   "outputs": [],
   "source": [
    "sns.histplot(tips[\"total_bill\"], bins=20, kde=True)\n",
    "plt.show()\n"
   ]
  },
  {
   "cell_type": "code",
   "execution_count": null,
   "metadata": {},
   "outputs": [],
   "source": [
    "sns.pairplot(tips, hue=\"sex\")\n",
    "plt.show()\n"
   ]
  },
  {
   "cell_type": "code",
   "execution_count": null,
   "metadata": {},
   "outputs": [],
   "source": [
    "corr = tips.corr()\n",
    "sns.heatmap(corr, annot=True, cmap=\"coolwarm\")\n",
    "plt.show()\n"
   ]
  },
  {
   "cell_type": "code",
   "execution_count": null,
   "metadata": {},
   "outputs": [],
   "source": [
    "sns.boxplot(x=\"day\", y=\"total_bill\", data=tips)\n",
    "plt.show()\n"
   ]
  },
  {
   "cell_type": "code",
   "execution_count": null,
   "metadata": {},
   "outputs": [],
   "source": [
    "sns.set_style(\"darkgrid\")  # Options: white, darkgrid, ticks\n",
    "sns.set_palette(\"pastel\")  # Options: deep, muted, bright, pastel\n",
    "plt.figure(figsize=(8, 6))\n"
   ]
  },
  {
   "cell_type": "code",
   "execution_count": null,
   "metadata": {},
   "outputs": [],
   "source": [
    "import seaborn as sns\n",
    "import matplotlib.pyplot as plt\n",
    "\n",
    "tips = sns.load_dataset(\"tips\")\n",
    "\n",
    "sns.violinplot(x=\"day\", y=\"total_bill\", data=tips, hue=\"sex\", split=True)\n",
    "plt.show()\n"
   ]
  },
  {
   "cell_type": "code",
   "execution_count": null,
   "metadata": {},
   "outputs": [],
   "source": [
    "sns.stripplot(x=\"day\", y=\"total_bill\", data=tips, jitter=True, hue=\"sex\", dodge=True)\n",
    "plt.show()\n"
   ]
  },
  {
   "cell_type": "code",
   "execution_count": null,
   "metadata": {},
   "outputs": [],
   "source": [
    "sns.kdeplot(x=tips[\"total_bill\"], fill=True, color=\"blue\")\n",
    "plt.show()\n"
   ]
  },
  {
   "cell_type": "code",
   "execution_count": null,
   "metadata": {},
   "outputs": [],
   "source": [
    "sns.lmplot(x=\"total_bill\", y=\"tip\", data=tips, hue=\"sex\", aspect=1.5)\n",
    "plt.show()\n"
   ]
  },
  {
   "cell_type": "code",
   "execution_count": null,
   "metadata": {},
   "outputs": [],
   "source": [
    "fmri = sns.load_dataset(\"fmri\")\n",
    "sns.lineplot(x=\"timepoint\", y=\"signal\", hue=\"region\", style=\"event\", data=fmri)\n",
    "plt.show()\n"
   ]
  },
  {
   "cell_type": "markdown",
   "metadata": {},
   "source": [
    "Plotly"
   ]
  },
  {
   "cell_type": "code",
   "execution_count": null,
   "metadata": {},
   "outputs": [],
   "source": [
    "import plotly.express as px\n",
    "import pandas as pd\n",
    "\n",
    "fig = px.scatter(tips, x=\"total_bill\", y=\"tip\", color=\"sex\")\n",
    "fig.show()\n"
   ]
  },
  {
   "cell_type": "code",
   "execution_count": null,
   "metadata": {},
   "outputs": [],
   "source": [
    "sns.swarmplot(x=\"day\", y=\"total_bill\", data=tips, hue=\"sex\", dodge=True)\n",
    "plt.show()\n"
   ]
  },
  {
   "cell_type": "code",
   "execution_count": null,
   "metadata": {},
   "outputs": [],
   "source": [
    "sns.countplot(x=\"day\", data=tips, hue=\"sex\")\n",
    "plt.show()\n"
   ]
  },
  {
   "cell_type": "code",
   "execution_count": null,
   "metadata": {},
   "outputs": [],
   "source": [
    "sns.set_palette(\"coolwarm\")\n"
   ]
  },
  {
   "cell_type": "code",
   "execution_count": null,
   "metadata": {},
   "outputs": [],
   "source": [
    "sns.despine()\n"
   ]
  },
  {
   "cell_type": "code",
   "execution_count": null,
   "metadata": {},
   "outputs": [],
   "source": [
    "plt.text(15, 4, \"Highest Tip\", fontsize=12, color=\"red\")\n"
   ]
  },
  {
   "cell_type": "code",
   "execution_count": null,
   "metadata": {},
   "outputs": [],
   "source": [
    "sns.boxplot(x=\"day\", y=\"total_bill\", data=tips.query(\"total_bill > 10\"))\n",
    "plt.show()\n"
   ]
  },
  {
   "cell_type": "code",
   "execution_count": null,
   "metadata": {},
   "outputs": [],
   "source": [
    "import plotly.graph_objects as go\n",
    "\n",
    "# Sample data\n",
    "x = [1, 2, 3, 4, 5]\n",
    "y = [10, 15, 7, 12, 9]\n",
    "\n",
    "# Create figure\n",
    "fig = go.Figure()\n",
    "\n",
    "# Add a line trace\n",
    "fig.add_trace(go.Scatter(x=x, y=y, mode='lines+markers', name='Line Plot'))\n",
    "\n",
    "# Show plot\n",
    "fig.show()\n"
   ]
  },
  {
   "cell_type": "code",
   "execution_count": null,
   "metadata": {},
   "outputs": [],
   "source": [
    "fig = go.Figure(go.Bar(x=['A', 'B', 'C'], y=[20, 14, 23]))\n",
    "fig.show()\n"
   ]
  },
  {
   "cell_type": "code",
   "execution_count": null,
   "metadata": {},
   "outputs": [],
   "source": [
    "import plotly.express as px\n",
    "import numpy as np\n",
    "\n",
    "# Generate random data\n",
    "data = np.random.randn(500)\n",
    "\n",
    "# Create histogram\n",
    "fig = px.histogram(x=data, nbins=20, title=\"Random Data Distribution\")\n",
    "fig.show()\n"
   ]
  },
  {
   "cell_type": "code",
   "execution_count": null,
   "metadata": {},
   "outputs": [],
   "source": [
    "import plotly.express as px\n",
    "\n",
    "df = px.data.iris()\n",
    "\n",
    "fig = px.scatter_3d(df, x='sepal_length', y='sepal_width', z='petal_length',\n",
    "                     color='species', title=\"3D Scatter Plot\")\n",
    "fig.show()\n"
   ]
  },
  {
   "cell_type": "markdown",
   "metadata": {},
   "source": [
    "Scipy"
   ]
  },
  {
   "cell_type": "code",
   "execution_count": null,
   "metadata": {},
   "outputs": [],
   "source": [
    "import numpy as np\n",
    "import scipy as sp\n",
    "import scipy.linalg  # For linear algebra\n",
    "import scipy.stats   # For statistics\n"
   ]
  },
  {
   "cell_type": "code",
   "execution_count": null,
   "metadata": {},
   "outputs": [],
   "source": [
    "import numpy as np\n",
    "from scipy.linalg import inv\n",
    "\n",
    "A = np.array([[4, 7], [2, 6]])\n",
    "A_inv = inv(A)\n",
    "print(A_inv)  # Inverse of A\n"
   ]
  },
  {
   "cell_type": "code",
   "execution_count": null,
   "metadata": {},
   "outputs": [],
   "source": [
    "from scipy.linalg import solve\n",
    "\n",
    "A = np.array([[3, 1], [1, 2]])\n",
    "B = np.array([9, 8])\n",
    "x = solve(A, B) # Ax = B\n",
    "print(x)  # Solution for x\n"
   ]
  },
  {
   "cell_type": "code",
   "execution_count": null,
   "metadata": {},
   "outputs": [],
   "source": [
    "from scipy.linalg import eig\n",
    "\n",
    "A = np.array([[3, -2], [1, 0]])\n",
    "eigenvalues, eigenvectors = eig(A)\n",
    "print(\"Eigenvalues:\", eigenvalues)\n",
    "print(\"Eigenvectors:\", eigenvectors)\n"
   ]
  },
  {
   "cell_type": "code",
   "execution_count": null,
   "metadata": {},
   "outputs": [],
   "source": [
    "from scipy.optimize import minimize\n",
    "\n",
    "def f(x):\n",
    "    return x**2 + 5*x + 6\n",
    "\n",
    "res = minimize(f, x0=0)  # x0 = Initial guess\n",
    "print(res.x)  # x value where function is minimum\n"
   ]
  },
  {
   "cell_type": "code",
   "execution_count": null,
   "metadata": {},
   "outputs": [],
   "source": [
    "from scipy.optimize import fsolve\n",
    "\n",
    "def equation(x):\n",
    "    return x**2 - 9  # x^2 - 9 = 0\n",
    "\n",
    "roots = fsolve(equation, x0=[0])  # Initial guess at 0\n",
    "print(roots)  # Expected: ±3\n"
   ]
  },
  {
   "cell_type": "code",
   "execution_count": null,
   "metadata": {},
   "outputs": [],
   "source": [
    "from scipy.integrate import quad\n",
    "\n",
    "def f(x):\n",
    "    return x**2\n",
    "\n",
    "result, _ = quad(f, 0, 3)  # ∫(x^2) dx from 0 to 3\n",
    "print(result)  # Expected: 9\n"
   ]
  },
  {
   "cell_type": "code",
   "execution_count": null,
   "metadata": {},
   "outputs": [],
   "source": [
    "from scipy.integrate import solve_ivp\n",
    "\n",
    "def dydx(t, y):\n",
    "    return -2*y\n",
    "\n",
    "sol = solve_ivp(dydx, [0, 5], [1])  # Solving from x=0 to x=5, y(0)=1\n",
    "print(sol.y)  # Solution values\n"
   ]
  },
  {
   "cell_type": "code",
   "execution_count": null,
   "metadata": {},
   "outputs": [],
   "source": [
    "from scipy.stats import norm #normal distribution\n",
    "\n",
    "mean = 0\n",
    "std_dev = 1\n",
    "\n",
    "print(norm.pdf(0))  # Probability density function at x=0\n",
    "print(norm.cdf(1.96))  # Cumulative distribution function at x=1.96\n"
   ]
  },
  {
   "cell_type": "code",
   "execution_count": null,
   "metadata": {},
   "outputs": [],
   "source": [
    "from scipy.stats import ttest_ind #hypo testing t-test\n",
    "\n",
    "data1 = np.random.normal(0, 1, 100)  # Sample 1\n",
    "data2 = np.random.normal(0, 1, 100)  # Sample 2\n",
    "\n",
    "t_stat, p_value = ttest_ind(data1, data2)\n",
    "print(\"t-statistic:\", t_stat)\n",
    "print(\"p-value:\", p_value)\n"
   ]
  },
  {
   "cell_type": "code",
   "execution_count": null,
   "metadata": {},
   "outputs": [],
   "source": [
    "from scipy.interpolate import interp1d\n",
    "\n",
    "x = np.array([0, 1, 2, 3, 4])\n",
    "y = np.array([0, 2, 4, 6, 8])\n",
    "\n",
    "f = interp1d(x, y)  # Create interpolation function\n",
    "print(f(2.5))  # Estimate value at x=2.5\n"
   ]
  },
  {
   "cell_type": "code",
   "execution_count": null,
   "metadata": {},
   "outputs": [],
   "source": [
    "from scipy.fft import fft\n",
    "\n",
    "signal = np.array([0, 1, 0, -1, 0, 1, 0, -1])\n",
    "transformed = fft(signal)\n",
    "print(transformed)  # Frequency domain representation\n"
   ]
  },
  {
   "cell_type": "code",
   "execution_count": null,
   "metadata": {},
   "outputs": [],
   "source": [
    "from scipy.signal import butter, filtfilt\n",
    "\n",
    "b, a = butter(4, 0.2)  # 4th order low-pass filter\n",
    "filtered_signal = filtfilt(b, a, signal)\n",
    "print(filtered_signal)\n"
   ]
  },
  {
   "cell_type": "markdown",
   "metadata": {},
   "source": [
    "Request"
   ]
  },
  {
   "cell_type": "code",
   "execution_count": null,
   "metadata": {},
   "outputs": [],
   "source": [
    "import urllib.request\n",
    "\n",
    "url = \"https://www.example.com\"\n",
    "response = urllib.request.urlopen(url)\n",
    "\n",
    "html = response.read().decode(\"utf-8\")\n",
    "print(html) # a whole webpage is fetched\n"
   ]
  },
  {
   "cell_type": "code",
   "execution_count": null,
   "metadata": {},
   "outputs": [],
   "source": [
    "urllib.request.urlretrieve(\"https://example.com/file.jpg\", \"downloaded.jpg\")\n"
   ]
  },
  {
   "cell_type": "code",
   "execution_count": null,
   "metadata": {},
   "outputs": [],
   "source": [
    "from urllib.error import URLError\n",
    "\n",
    "try:\n",
    "    response = urllib.request.urlopen(\"https://invalid-url.com\")\n",
    "except URLError as e:\n",
    "    print(\"Error:\", e)\n"
   ]
  },
  {
   "cell_type": "markdown",
   "metadata": {},
   "source": [
    "os"
   ]
  },
  {
   "cell_type": "code",
   "execution_count": null,
   "metadata": {},
   "outputs": [],
   "source": [
    "import os\n",
    "print(os.getcwd())  # Output: Current directory path\n"
   ]
  },
  {
   "cell_type": "code",
   "execution_count": null,
   "metadata": {},
   "outputs": [],
   "source": [
    "os.chdir(\"/path/to/directory\")  # Change working directory\n",
    "print(os.getcwd())  \n"
   ]
  },
  {
   "cell_type": "code",
   "execution_count": null,
   "metadata": {},
   "outputs": [],
   "source": [
    "print(os.listdir(\".\"))  # List all files in the current directory\n"
   ]
  },
  {
   "cell_type": "code",
   "execution_count": null,
   "metadata": {},
   "outputs": [],
   "source": [
    "os.mkdir(\"new_folder\")  # Creates a folder\n"
   ]
  },
  {
   "cell_type": "code",
   "execution_count": null,
   "metadata": {},
   "outputs": [],
   "source": [
    "os.makedirs(\"parent/child/grandchild\")  # Creates multiple levels of directories\n"
   ]
  },
  {
   "cell_type": "code",
   "execution_count": null,
   "metadata": {},
   "outputs": [],
   "source": [
    "os.rmdir(\"new_folder\")  # Removes empty directory\n"
   ]
  },
  {
   "cell_type": "code",
   "execution_count": null,
   "metadata": {},
   "outputs": [],
   "source": [
    "import shutil\n",
    "shutil.rmtree(\"parent\")  # Removes directory and all contents inside\n"
   ]
  },
  {
   "cell_type": "code",
   "execution_count": null,
   "metadata": {},
   "outputs": [],
   "source": [
    "if os.path.exists(\"hello.txt\"):\n",
    "    print(\"File exists!\")\n"
   ]
  },
  {
   "cell_type": "code",
   "execution_count": null,
   "metadata": {},
   "outputs": [],
   "source": [
    "os.rename(\"test.txt\", \"hello.txt\")\n"
   ]
  },
  {
   "cell_type": "code",
   "execution_count": null,
   "metadata": {},
   "outputs": [],
   "source": [
    "shutil.copy(\"hello.txt\", \"backup_hello.txt\")  # Copy file\n",
    "shutil.copytree(\"source_folder\", \"destination_folder\")  # Copy entire folder\n"
   ]
  },
  {
   "cell_type": "code",
   "execution_count": null,
   "metadata": {},
   "outputs": [],
   "source": [
    "shutil.move(\"hello.txt\", \"new_folder/hello.txt\")  # Move file to another folder\n"
   ]
  },
  {
   "cell_type": "code",
   "execution_count": null,
   "metadata": {},
   "outputs": [],
   "source": [
    "import tempfile\n",
    "\n",
    "with tempfile.NamedTemporaryFile(delete=False) as temp:\n",
    "    temp.write(b\"Temporary file content\")\n",
    "    print(\"Temp file path:\", temp.name)\n",
    "with tempfile.TemporaryDirectory() as temp_dir:\n",
    "    print(\"Temporary directory path:\", temp_dir)\n",
    "    # You can create files inside this directory\n"
   ]
  },
  {
   "cell_type": "code",
   "execution_count": null,
   "metadata": {},
   "outputs": [],
   "source": [
    "for root, dirs, files in os.walk(\".\"):\n",
    "    for file in files:\n",
    "        if file.endswith(\".txt\"):\n",
    "            print(os.path.join(root, file))\n"
   ]
  },
  {
   "cell_type": "code",
   "execution_count": null,
   "metadata": {},
   "outputs": [],
   "source": [
    "import time\n",
    "file_stats = os.stat(\"hello.txt\")\n",
    "print(\"Size:\", file_stats.st_size, \"bytes\")\n",
    "print(\"Last modified:\", time.ctime(file_stats.st_mtime))\n"
   ]
  },
  {
   "cell_type": "code",
   "execution_count": 1,
   "metadata": {},
   "outputs": [
    {
     "name": "stdout",
     "output_type": "stream",
     "text": [
      "ChainMap({'a': 1, 'b': 2}, {'c': 3, 'd': 4}, {'e': 5, 'f': 6})\n",
      "1\n"
     ]
    },
    {
     "ename": "KeyError",
     "evalue": "'g'",
     "output_type": "error",
     "traceback": [
      "\u001b[1;31m---------------------------------------------------------------------------\u001b[0m",
      "\u001b[1;31mKeyError\u001b[0m                                  Traceback (most recent call last)",
      "Cell \u001b[1;32mIn[1], line 13\u001b[0m\n\u001b[0;32m     10\u001b[0m \u001b[38;5;28mprint\u001b[39m(c)\n\u001b[0;32m     12\u001b[0m \u001b[38;5;28mprint\u001b[39m(c[\u001b[38;5;124m'\u001b[39m\u001b[38;5;124ma\u001b[39m\u001b[38;5;124m'\u001b[39m])\n\u001b[1;32m---> 13\u001b[0m \u001b[38;5;28mprint\u001b[39m(\u001b[43mc\u001b[49m\u001b[43m[\u001b[49m\u001b[38;5;124;43m'\u001b[39;49m\u001b[38;5;124;43mg\u001b[39;49m\u001b[38;5;124;43m'\u001b[39;49m\u001b[43m]\u001b[49m)\n",
      "File \u001b[1;32mc:\\Users\\Rayyan\\AppData\\Local\\Programs\\Python\\Python312\\Lib\\collections\\__init__.py:1015\u001b[0m, in \u001b[0;36mChainMap.__getitem__\u001b[1;34m(self, key)\u001b[0m\n\u001b[0;32m   1013\u001b[0m     \u001b[38;5;28;01mexcept\u001b[39;00m \u001b[38;5;167;01mKeyError\u001b[39;00m:\n\u001b[0;32m   1014\u001b[0m         \u001b[38;5;28;01mpass\u001b[39;00m\n\u001b[1;32m-> 1015\u001b[0m \u001b[38;5;28;01mreturn\u001b[39;00m \u001b[38;5;28;43mself\u001b[39;49m\u001b[38;5;241;43m.\u001b[39;49m\u001b[38;5;21;43m__missing__\u001b[39;49m\u001b[43m(\u001b[49m\u001b[43mkey\u001b[49m\u001b[43m)\u001b[49m\n",
      "File \u001b[1;32mc:\\Users\\Rayyan\\AppData\\Local\\Programs\\Python\\Python312\\Lib\\collections\\__init__.py:1007\u001b[0m, in \u001b[0;36mChainMap.__missing__\u001b[1;34m(self, key)\u001b[0m\n\u001b[0;32m   1006\u001b[0m \u001b[38;5;28;01mdef\u001b[39;00m \u001b[38;5;21m__missing__\u001b[39m(\u001b[38;5;28mself\u001b[39m, key):\n\u001b[1;32m-> 1007\u001b[0m     \u001b[38;5;28;01mraise\u001b[39;00m \u001b[38;5;167;01mKeyError\u001b[39;00m(key)\n",
      "\u001b[1;31mKeyError\u001b[0m: 'g'"
     ]
    }
   ],
   "source": [
    "from collections import ChainMap\n",
    "    \n",
    "    \n",
    "d1 = {'a': 1, 'b': 2}\n",
    "d2 = {'c': 3, 'd': 4}\n",
    "d3 = {'e': 5, 'f': 6}\n",
    "    \n",
    "# Defining the chainmap\n",
    "c = ChainMap(d1, d2, d3)\n",
    "print(c)\n",
    "\n",
    "print(c['a'])\n",
    "print(c['g'])\n"
   ]
  },
  {
   "cell_type": "markdown",
   "metadata": {},
   "source": [
    "shell scripts:\n",
    "#!/usr/bin/env python3\n",
    "chmod +x script.py\n",
    "./script.py\n"
   ]
  },
  {
   "cell_type": "markdown",
   "metadata": {},
   "source": [
    "# OoP python"
   ]
  },
  {
   "cell_type": "code",
   "execution_count": null,
   "metadata": {},
   "outputs": [],
   "source": [
    "class Car:\n",
    "    def __init__(self, brand, model):\n",
    "        self.brand = brand  # Attribute\n",
    "        self.model = model  # Attribute\n",
    "\n",
    "    def display_info(self):  # Method\n",
    "        print(f\"Car Brand: {self.brand}, Model: {self.model}\")\n",
    "\n",
    "# Creating an object of the Car class\n",
    "car1 = Car(\"Toyota\", \"Corolla\")\n",
    "car1.display_info()\n"
   ]
  },
  {
   "cell_type": "code",
   "execution_count": null,
   "metadata": {},
   "outputs": [],
   "source": [
    "class Student:\n",
    "    school_name = \"ABC School\"  # Class attribute\n",
    "\n",
    "    def __init__(self, name, age):\n",
    "        self.name = name  # Instance attribute\n",
    "        self.age = age  # Instance attribute\n",
    "\n",
    "# Creating objects\n",
    "student1 = Student(\"Alice\", 20)\n",
    "student2 = Student(\"Bob\", 22)\n",
    "\n",
    "print(student1.school_name)  # Output: ABC School\n",
    "print(student2.school_name)  # Output: ABC School\n",
    "print(student1.name)  # Output: Alice\n"
   ]
  },
  {
   "cell_type": "code",
   "execution_count": null,
   "metadata": {},
   "outputs": [],
   "source": [
    "class Person:\n",
    "    def __init__(self, name, age):\n",
    "        self.name = name\n",
    "        self.age = age\n",
    "# a class has methods that belongs to it. variables in function:local, of class: static,of \n",
    "    def greet(self):\n",
    "        print(f\"Hello, my name is {self.name} and I am {self.age} years old.\")\n",
    "\n",
    "p1 = Person(\"John\", 25)\n",
    "p1.greet()\n"
   ]
  },
  {
   "cell_type": "code",
   "execution_count": null,
   "metadata": {},
   "outputs": [],
   "source": [
    "class Example:\n",
    "    def __init__(self):\n",
    "        print(\"Constructor called!\")\n",
    "\n",
    "    def __del__(self):\n",
    "        print(\"Destructor called!\")\n",
    "\n",
    "obj = Example()\n",
    "del obj  # Deletes the object\n"
   ]
  },
  {
   "cell_type": "code",
   "execution_count": null,
   "metadata": {},
   "outputs": [],
   "source": [
    "class Animal:\n",
    "    def speak(self):\n",
    "        print(\"Animal makes a sound\")\n",
    "\n",
    "class Dog(Animal):  # Dog inherits from Animal\n",
    "    def bark(self):\n",
    "        print(\"Dog barks\")\n",
    "\n",
    "d = Dog()\n",
    "d.speak()  # method ki chori\n",
    "d.bark()\n"
   ]
  },
  {
   "cell_type": "markdown",
   "metadata": {},
   "source": [
    "#DS\n"
   ]
  },
  {
   "cell_type": "markdown",
   "metadata": {},
   "source": []
  },
  {
   "cell_type": "code",
   "execution_count": null,
   "metadata": {},
   "outputs": [
    {
     "ename": "AttributeError",
     "evalue": "'LinkedList' object has no attribute 'data'",
     "output_type": "error",
     "traceback": [
      "\u001b[1;31m---------------------------------------------------------------------------\u001b[0m",
      "\u001b[1;31mAttributeError\u001b[0m                            Traceback (most recent call last)",
      "Cell \u001b[1;32mIn[6], line 71\u001b[0m\n\u001b[0;32m     57\u001b[0m     second\u001b[38;5;241m.\u001b[39mnext \u001b[38;5;241m=\u001b[39m third; \u001b[38;5;66;03m# Link second node with the third node\u001b[39;00m\n\u001b[0;32m     59\u001b[0m \u001b[38;5;250m    \u001b[39m\u001b[38;5;124;03m'''\u001b[39;00m\n\u001b[0;32m     60\u001b[0m \u001b[38;5;124;03m    Now next of second Node refers to third. So all three\u001b[39;00m\n\u001b[0;32m     61\u001b[0m \u001b[38;5;124;03m    nodes are linked.\u001b[39;00m\n\u001b[1;32m   (...)\u001b[0m\n\u001b[0;32m     68\u001b[0m \u001b[38;5;124;03m    +----+------+     +----+------+     +----+------+\u001b[39;00m\n\u001b[0;32m     69\u001b[0m \u001b[38;5;124;03m    '''\u001b[39;00m\n\u001b[1;32m---> 71\u001b[0m \u001b[38;5;28mprint\u001b[39m(\u001b[38;5;28;43mlist\u001b[39;49m\u001b[38;5;241;43m.\u001b[39;49m\u001b[43mdata\u001b[49m)\n",
      "\u001b[1;31mAttributeError\u001b[0m: 'LinkedList' object has no attribute 'data'"
     ]
    }
   ],
   "source": [
    "# A simple Python program to introduce a linked list\n",
    "\n",
    "# Node class\n",
    "class Node:\n",
    "\n",
    "    # Function to initialise the node object\n",
    "    def __init__(self, data):\n",
    "        self.data = data # Assign data\n",
    "        self.next = None # Initialize next as null\n",
    "\n",
    "\n",
    "# Linked List class contains a Node object\n",
    "class LinkedList:\n",
    "\n",
    "    # Function to initialize head\n",
    "    def __init__(self):\n",
    "        self.head = None\n",
    "\n",
    "\n",
    "# Code execution starts here\n",
    "if __name__=='__main__':\n",
    "\n",
    "    # Start with the empty list\n",
    "    list = LinkedList()\n",
    "\n",
    "    list.head = Node(1)\n",
    "    second = Node(2)\n",
    "    third = Node(3)\n",
    "\n",
    "    '''\n",
    "    Three nodes have been created.\n",
    "    We have references to these three blocks as head,\n",
    "    second and third\n",
    "\n",
    "    list.head     second             third\n",
    "        |             |                 |\n",
    "        |             |                 |\n",
    "    +----+------+     +----+------+     +----+------+\n",
    "    | 1 | None |     | 2 | None |     | 3 | None |\n",
    "    +----+------+     +----+------+     +----+------+\n",
    "    '''\n",
    "\n",
    "    list.head.next = second; # Link first node with second\n",
    "\n",
    "    '''\n",
    "    Now next of first Node refers to second. So they\n",
    "    both are linked.\n",
    "\n",
    "    list.head     second             third\n",
    "        |             |                 |\n",
    "        |             |                 |\n",
    "    +----+------+     +----+------+     +----+------+\n",
    "    | 1 | o-------->| 2 | null |     | 3 | null |\n",
    "    +----+------+     +----+------+     +----+------+\n",
    "    '''\n",
    "\n",
    "    second.next = third; # Link second node with the third node\n",
    "\n",
    "    '''\n",
    "    Now next of second Node refers to third. So all three\n",
    "    nodes are linked.\n",
    "\n",
    "    list.head     second             third\n",
    "        |             |                 |\n",
    "        |             |                 |\n",
    "    +----+------+     +----+------+     +----+------+\n",
    "    | 1 | o-------->| 2 | o-------->| 3 | null |\n",
    "    +----+------+     +----+------+     +----+------+\n",
    "    '''\n",
    "\n",
    "\n"
   ]
  },
  {
   "cell_type": "code",
   "execution_count": 4,
   "metadata": {},
   "outputs": [
    {
     "name": "stdout",
     "output_type": "stream",
     "text": [
      "1\n",
      "2\n",
      "3\n"
     ]
    }
   ],
   "source": [
    "# A simple Python program for traversal of a linked list\n",
    "\n",
    "# Node class\n",
    "class Node:\n",
    "\n",
    "    # Function to initialise the node object\n",
    "    def __init__(self, data):\n",
    "        self.data = data # Assign data\n",
    "        self.next = None # Initialize next as null\n",
    "\n",
    "\n",
    "# Linked List class contains a Node object\n",
    "class LinkedList:\n",
    "\n",
    "    # Function to initialize head\n",
    "    def __init__(self):\n",
    "        self.head = None\n",
    "\n",
    "    # This function prints contents of linked list\n",
    "    # starting from head\n",
    "    def printList(self):\n",
    "        temp = self.head\n",
    "        while (temp):\n",
    "            print (temp.data)\n",
    "            temp = temp.next\n",
    "\n",
    "\n",
    "# Code execution starts here\n",
    "if __name__=='__main__':\n",
    "\n",
    "    # Start with the empty list\n",
    "    list = LinkedList()\n",
    "\n",
    "    list.head = Node(1)\n",
    "    second = Node(2)\n",
    "    third = Node(3)\n",
    "\n",
    "    list.head.next = second; # Link first node with second\n",
    "    second.next = third; # Link second node with the third node\n",
    "\n",
    "    list.printList()\n"
   ]
  },
  {
   "cell_type": "markdown",
   "metadata": {},
   "source": [
    "list, deque has append and pop.\n",
    "LifoQueue, Queue from queue has put and get."
   ]
  },
  {
   "cell_type": "code",
   "execution_count": 7,
   "metadata": {},
   "outputs": [
    {
     "name": "stdout",
     "output_type": "stream",
     "text": [
      "Initial stack\n",
      "['g', 'f', 'g']\n",
      "\n",
      "Elements popped from stack:\n",
      "g\n",
      "f\n",
      "g\n",
      "\n",
      "Stack after elements are popped:\n",
      "[]\n"
     ]
    }
   ],
   "source": [
    "stack = []\n",
    "\n",
    "# append() function to push\n",
    "# element in the stack\n",
    "stack.append('g')\n",
    "stack.append('f')\n",
    "stack.append('g')\n",
    "\n",
    "print('Initial stack')\n",
    "print(stack)\n",
    "\n",
    "# pop() function to pop\n",
    "# element from stack in\n",
    "# LIFO order\n",
    "print('\\nElements popped from stack:')\n",
    "print(stack.pop())\n",
    "print(stack.pop())\n",
    "print(stack.pop())\n",
    "\n",
    "print('\\nStack after elements are popped:')\n",
    "print(stack)\n",
    "\n",
    "# uncommenting print(stack.pop())\n",
    "# will cause an IndexError\n",
    "# as the stack is now empty\n"
   ]
  },
  {
   "cell_type": "code",
   "execution_count": 8,
   "metadata": {},
   "outputs": [
    {
     "name": "stdout",
     "output_type": "stream",
     "text": [
      "Initial stack:\n",
      "deque(['g', 'f', 'g'])\n",
      "\n",
      "Elements popped from stack:\n",
      "g\n",
      "f\n",
      "g\n",
      "\n",
      "Stack after elements are popped:\n",
      "deque([])\n"
     ]
    }
   ],
   "source": [
    "from collections import deque\n",
    "\n",
    "stack = deque()\n",
    "\n",
    "# append() function to push\n",
    "# element in the stack\n",
    "stack.append('g')\n",
    "stack.append('f')\n",
    "stack.append('g')\n",
    "\n",
    "print('Initial stack:')\n",
    "print(stack)\n",
    "\n",
    "# pop() function to pop\n",
    "# element from stack in\n",
    "# LIFO order\n",
    "print('\\nElements popped from stack:')\n",
    "print(stack.pop())\n",
    "print(stack.pop())\n",
    "print(stack.pop())\n",
    "\n",
    "print('\\nStack after elements are popped:')\n",
    "print(stack)\n",
    "\n",
    "# uncommenting print(stack.pop())\n",
    "# will cause an IndexError\n",
    "# as the stack is now empty\n"
   ]
  },
  {
   "cell_type": "code",
   "execution_count": 9,
   "metadata": {},
   "outputs": [
    {
     "name": "stdout",
     "output_type": "stream",
     "text": [
      "0\n",
      "Full:  True\n",
      "Size:  3\n",
      "\n",
      "Elements popped from the stack\n",
      "g\n",
      "f\n",
      "g\n",
      "\n",
      "Empty:  True\n"
     ]
    }
   ],
   "source": [
    "from queue import LifoQueue\n",
    "\n",
    "# Initializing a stack\n",
    "stack = LifoQueue(maxsize = 3)\n",
    "\n",
    "# qsize() show the number of elements\n",
    "# in the stack\n",
    "print(stack.qsize())\n",
    "\n",
    "# put() function to push\n",
    "# element in the stack\n",
    "stack.put('g')\n",
    "stack.put('f')\n",
    "stack.put('g')\n",
    "\n",
    "print(\"Full: \", stack.full())\n",
    "print(\"Size: \", stack.qsize())\n",
    "\n",
    "# get() function to pop\n",
    "# element from stack in\n",
    "# LIFO order\n",
    "print('\\nElements popped from the stack')\n",
    "print(stack.get())\n",
    "print(stack.get())\n",
    "print(stack.get())\n",
    "\n",
    "print(\"\\nEmpty: \", stack.empty())\n"
   ]
  },
  {
   "cell_type": "code",
   "execution_count": null,
   "metadata": {},
   "outputs": [],
   "source": [
    "from collections import deque\n",
    "\n",
    "# Initializing a queue\n",
    "q = deque()\n",
    "\n",
    "# Adding elements to a queue\n",
    "q.append('g')\n",
    "q.append('f')\n",
    "q.append('g')\n",
    "\n",
    "print(\"Initial queue\")\n",
    "print(q)\n",
    "\n",
    "# Removing elements from a queue\n",
    "print(\"\\nElements dequeued from the queue\")\n",
    "print(q.popleft())\n",
    "print(q.popleft())\n",
    "print(q.popleft())\n",
    "\n",
    "print(\"\\nQueue after removing elements\")\n",
    "print(q)\n",
    "\n",
    "# Uncommenting q.popleft()\n",
    "# will raise an IndexError\n",
    "# as queue is now empty\n"
   ]
  }
 ],
 "metadata": {
  "kernelspec": {
   "display_name": "Python 3",
   "language": "python",
   "name": "python3"
  },
  "language_info": {
   "codemirror_mode": {
    "name": "ipython",
    "version": 3
   },
   "file_extension": ".py",
   "mimetype": "text/x-python",
   "name": "python",
   "nbconvert_exporter": "python",
   "pygments_lexer": "ipython3",
   "version": "3.12.5"
  }
 },
 "nbformat": 4,
 "nbformat_minor": 2
}
